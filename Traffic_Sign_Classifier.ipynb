{
 "cells": [
  {
   "cell_type": "markdown",
   "metadata": {},
   "source": [
    "# Self-Driving Car Engineer Nanodegree\n",
    "\n",
    "## Deep Learning\n",
    "\n",
    "## Project: Build a Traffic Sign Recognition Classifier\n",
    "\n",
    "In this notebook, a template is provided for you to implement your functionality in stages, which is required to successfully complete this project. If additional code is required that cannot be included in the notebook, be sure that the Python code is successfully imported and included in your submission if necessary. \n",
    "\n",
    "> **Note**: Once you have completed all of the code implementations, you need to finalize your work by exporting the iPython Notebook as an HTML document. Before exporting the notebook to html, all of the code cells need to have been run so that reviewers can see the final implementation and output. You can then export the notebook by using the menu above and navigating to  \\n\",\n",
    "    \"**File -> Download as -> HTML (.html)**. Include the finished document along with this notebook as your submission. \n",
    "\n",
    "In addition to implementing code, there is a writeup to complete. The writeup should be completed in a separate file, which can be either a markdown file or a pdf document. There is a [write up template](https://github.com/udacity/CarND-Traffic-Sign-Classifier-Project/blob/master/writeup_template.md) that can be used to guide the writing process. Completing the code template and writeup template will cover all of the [rubric points](https://review.udacity.com/#!/rubrics/481/view) for this project.\n",
    "\n",
    "The [rubric](https://review.udacity.com/#!/rubrics/481/view) contains \"Stand Out Suggestions\" for enhancing the project beyond the minimum requirements. The stand out suggestions are optional. If you decide to pursue the \"stand out suggestions\", you can include the code in this Ipython notebook and also discuss the results in the writeup file.\n",
    "\n",
    "\n",
    ">**Note:** Code and Markdown cells can be executed using the **Shift + Enter** keyboard shortcut. In addition, Markdown cells can be edited by typically double-clicking the cell to enter edit mode."
   ]
  },
  {
   "cell_type": "markdown",
   "metadata": {},
   "source": [
    "---\n",
    "## Step 0: Load The Data"
   ]
  },
  {
   "cell_type": "code",
   "execution_count": 1,
   "metadata": {
    "collapsed": true
   },
   "outputs": [],
   "source": [
    "# Load pickled data\n",
    "import pickle\n",
    "import os\n",
    "\n",
    "# Get the training, validation and test data\n",
    "training_file = 'dataset/train.p'\n",
    "validation_file= 'dataset/valid.p'\n",
    "testing_file = 'dataset/test.p'\n",
    "\n",
    "with open(training_file, mode='rb') as f:\n",
    "    train = pickle.load(f)\n",
    "with open(validation_file, mode='rb') as f:\n",
    "    valid = pickle.load(f)\n",
    "with open(testing_file, mode='rb') as f:\n",
    "    test = pickle.load(f)\n",
    "    \n",
    "X_train, y_train, sizes_train, coords_train = train['features'], train['labels'], train['sizes'], train['coords']\n",
    "X_valid, y_valid, sizes_valid, coords_valid = valid['features'], valid['labels'], valid['sizes'], valid['coords']\n",
    "X_test, y_test, sizes_test, coords_test = test['features'], test['labels'], test['sizes'], test['coords']"
   ]
  },
  {
   "cell_type": "markdown",
   "metadata": {},
   "source": [
    "---\n",
    "\n",
    "## Step 1: Dataset Summary & Exploration\n",
    "\n",
    "The pickled data is a dictionary with 4 key/value pairs:\n",
    "\n",
    "- `'features'` is a 4D array containing raw pixel data of the traffic sign images, (num examples, width, height, channels).\n",
    "- `'labels'` is a 1D array containing the label/class id of the traffic sign. The file `signnames.csv` contains id -> name mappings for each id.\n",
    "- `'sizes'` is a list containing tuples, (width, height) representing the original width and height the image.\n",
    "- `'coords'` is a list containing tuples, (x1, y1, x2, y2) representing coordinates of a bounding box around the sign in the image. **THESE COORDINATES ASSUME THE ORIGINAL IMAGE. THE PICKLED DATA CONTAINS RESIZED VERSIONS (32 by 32) OF THESE IMAGES**\n",
    "\n",
    "Complete the basic data summary below. Use python, numpy and/or pandas methods to calculate the data summary rather than hard coding the results. For example, the [pandas shape method](http://pandas.pydata.org/pandas-docs/stable/generated/pandas.DataFrame.shape.html) might be useful for calculating some of the summary results. "
   ]
  },
  {
   "cell_type": "markdown",
   "metadata": {},
   "source": [
    "### Provide a Basic Summary of the Data Set Using Python, Numpy and/or Pandas"
   ]
  },
  {
   "cell_type": "code",
   "execution_count": 2,
   "metadata": {},
   "outputs": [
    {
     "name": "stdout",
     "output_type": "stream",
     "text": [
      "Number of training examples = 34799\n",
      "Number of validation examples = 4410\n",
      "Number of testing examples = 12630\n",
      "Image data shape = 32 x 32 x 3\n",
      "Number of classes = 43\n"
     ]
    }
   ],
   "source": [
    "### Replace each question mark with the appropriate value. \n",
    "### Use python, pandas or numpy methods rather than hard coding the results\n",
    "import numpy as np\n",
    "\n",
    "# Number of training examples\n",
    "n_train = X_train.shape[0]\n",
    "\n",
    "# Number of validation examples\n",
    "n_validation = X_valid.shape[0]\n",
    "\n",
    "# Number of testing examples.\n",
    "n_test = X_test.shape[0]\n",
    "\n",
    "# What's the shape of an traffic sign image?\n",
    "image_shape = str(X_test.shape[1]) + ' x ' + str(X_test.shape[2]) + ' x ' + str(X_test.shape[3])\n",
    "\n",
    "# How many unique classes/labels there are in the dataset.\n",
    "n_classes = len(np.unique(y_test))\n",
    "\n",
    "print(\"Number of training examples =\", n_train)\n",
    "print(\"Number of validation examples =\", n_validation)\n",
    "print(\"Number of testing examples =\", n_test)\n",
    "print(\"Image data shape =\", image_shape)\n",
    "print(\"Number of classes =\", n_classes)"
   ]
  },
  {
   "cell_type": "markdown",
   "metadata": {},
   "source": [
    "### Include an exploratory visualization of the dataset"
   ]
  },
  {
   "cell_type": "markdown",
   "metadata": {},
   "source": [
    "Visualize the German Traffic Signs Dataset using the pickled file(s). This is open ended, suggestions include: plotting traffic sign images, plotting the count of each sign, etc. \n",
    "\n",
    "The [Matplotlib](http://matplotlib.org/) [examples](http://matplotlib.org/examples/index.html) and [gallery](http://matplotlib.org/gallery.html) pages are a great resource for doing visualizations in Python.\n",
    "\n",
    "**NOTE:** It's recommended you start with something simple first. If you wish to do more, come back to it after you've completed the rest of the sections. It can be interesting to look at the distribution of classes in the training, validation and test set. Is the distribution the same? Are there more examples of some classes than others?"
   ]
  },
  {
   "cell_type": "code",
   "execution_count": 3,
   "metadata": {},
   "outputs": [
    {
     "data": {
      "text/plain": [
       "<matplotlib.image.AxesImage at 0x77905f8>"
      ]
     },
     "execution_count": 3,
     "metadata": {},
     "output_type": "execute_result"
    },
    {
     "data": {
      "image/png": "[encoded data removed]",
      "text/plain": [
       "<matplotlib.figure.Figure at 0x4b180b8>"
      ]
     },
     "metadata": {},
     "output_type": "display_data"
    }
   ],
   "source": [
    "### Data exploration visualization code goes here.\n",
    "### Feel free to use as many code cells as needed.\n",
    "import matplotlib.pyplot as plt\n",
    "# Visualizations will be shown in the notebook.\n",
    "%matplotlib inline\n",
    "\n",
    "def sample_images(source):\n",
    "    return np.concatenate((source[100], source[300], source[500], source[900]), axis=1)\n",
    "\n",
    "# Display the sample images\n",
    "plt.imshow(sample_images(X_train))\n"
   ]
  },
  {
   "cell_type": "code",
   "execution_count": 4,
   "metadata": {},
   "outputs": [
    {
     "data": {
      "image/png": "[encoded data removed]",
      "text/plain": [
       "<matplotlib.figure.Figure at 0x76dde48>"
      ]
     },
     "metadata": {},
     "output_type": "display_data"
    },
    {
     "data": {
      "image/png": "[encoded data removed]",
      "text/plain": [
       "<matplotlib.figure.Figure at 0x4b18908>"
      ]
     },
     "metadata": {},
     "output_type": "display_data"
    },
    {
     "data": {
      "image/png": "[encoded data removed]",
      "text/plain": [
       "<matplotlib.figure.Figure at 0x78d9dd8>"
      ]
     },
     "metadata": {},
     "output_type": "display_data"
    }
   ],
   "source": [
    "import collections\n",
    "import matplotlib.mlab as mlab\n",
    "\n",
    "def visualize_dataset_spread(dataset, name):\n",
    "    # Visualize the spread of the data\n",
    "    counter = collections.Counter(dataset)\n",
    "\n",
    "    values = list(counter.values())\n",
    "\n",
    "    # Stats\n",
    "    mu = np.mean(values)\n",
    "    sigma = np.std(values)\n",
    "\n",
    "    # Counter data, counter is your counter object\n",
    "    keys = counter.keys()\n",
    "    y_pos = np.arange(len(keys))\n",
    "    # get the counts for each key, assuming the values are numerical\n",
    "    performance = [counter[k] for k in keys]\n",
    "\n",
    "    plt.bar(y_pos, performance, align='center', alpha=0.4)    \n",
    "    plt.xlabel('Sign Labels')\n",
    "    plt.title('{} data has a mean of {:.0f} and standard deviation of {:.0f}'.format(name, mu, sigma))\n",
    "\n",
    "    plt.show()\n",
    "    \n",
    "# Visualize the dataset spread\n",
    "visualize_dataset_spread(y_train, 'Training')\n",
    "\n",
    "visualize_dataset_spread(y_valid, 'Validation')\n",
    "\n",
    "visualize_dataset_spread(y_test, 'Testing')\n",
    "\n"
   ]
  },
  {
   "cell_type": "markdown",
   "metadata": {},
   "source": [
    "### Augmenting the dataset"
   ]
  },
  {
   "cell_type": "code",
   "execution_count": 5,
   "metadata": {
    "collapsed": true
   },
   "outputs": [],
   "source": [
    "from tqdm import *\n",
    "import scipy\n",
    "import skimage.transform as transform\n",
    "\n",
    "AUGMENT_PATH = 'dataset/augmented/{}.p'\n",
    "\n",
    "def augment_by_zoom_in(inputs, labels, sizes, coords):\n",
    "    aug_inputs = []\n",
    "    aug_labels = []\n",
    "    \n",
    "    # Path for serialiation\n",
    "    path = AUGMENT_PATH.format('zoom_in')\n",
    "    \n",
    "    # If it already exists in the path\n",
    "    if os.path.exists(path):\n",
    "        aug_inputs, aug_labels = pickle.load(open(path, 'rb'))\n",
    "    else:\n",
    "        for idx in tqdm(range(len(inputs) - 1)):\n",
    "            inp = inputs[idx]\n",
    "            label = labels[idx]\n",
    "            size = sizes[idx]\n",
    "            coord = coords[idx]\n",
    "\n",
    "            # Transform it to the original size\n",
    "            img = transform.resize(inp, size, mode='reflect')\n",
    "\n",
    "            # Get the coordinates that annotate the sign\n",
    "            x1, y1, x2, y2 = tuple(coord)\n",
    "\n",
    "            # Crop the image to the annotation\n",
    "            img = img[x1 : y2, x1 : x2]\n",
    "\n",
    "            # Resize it to the original image size\n",
    "            img = scipy.misc.imresize(img, inp.shape)\n",
    "\n",
    "            # Push it to the dataset\n",
    "            aug_inputs.append(img)\n",
    "\n",
    "            # Duplicate the label\n",
    "            aug_labels.append(label)\n",
    "            \n",
    "        pickle.dump((aug_inputs, aug_labels), open(path, 'wb'))\n",
    "\n",
    "    return aug_inputs, aug_labels\n",
    "\n",
    "\n",
    "# TODO: Other augmentation techniques\n",
    "\n"
   ]
  },
  {
   "cell_type": "code",
   "execution_count": 6,
   "metadata": {},
   "outputs": [
    {
     "name": "stdout",
     "output_type": "stream",
     "text": [
      "Augmenting training data...\n",
      "Augmentation completed!\n"
     ]
    }
   ],
   "source": [
    "print('Augmenting training data...')\n",
    "\n",
    "# Initialize\n",
    "X_train_extra = []\n",
    "y_train_extra = []\n",
    "\n",
    "# Augmentation 1 - By zooming in\n",
    "x_extra_zoom_in, y_extra_zoom_in = augment_by_zoom_in(X_train, y_train, sizes_train, coords_train)\n",
    "X_train_extra += x_extra_zoom_in\n",
    "y_train_extra += y_extra_zoom_in\n",
    "\n",
    "# Augmentation 2 - TODO\n",
    "\n",
    "\n",
    "# Concatenate the original dataset\n",
    "X_train_extra = np.concatenate((X_train, X_train_extra))\n",
    "y_train_extra = np.concatenate((y_train, y_train_extra))\n",
    "                      \n",
    "assert(len(X_train_extra) == len(y_train_extra)), 'Number of inputs and labels are not matching'\n",
    "   \n",
    "print('Augmentation completed!')\n"
   ]
  },
  {
   "cell_type": "code",
   "execution_count": 7,
   "metadata": {},
   "outputs": [
    {
     "data": {
      "image/png": "[encoded data removed]",
      "text/plain": [
       "<matplotlib.figure.Figure at 0x4af2b70>"
      ]
     },
     "metadata": {},
     "output_type": "display_data"
    }
   ],
   "source": [
    "# Visualize the dataset spread\n",
    "visualize_dataset_spread(y_train_extra, 'Training')"
   ]
  },
  {
   "cell_type": "markdown",
   "metadata": {},
   "source": [
    "----\n",
    "\n",
    "## Step 2: Design and Test a Model Architecture\n",
    "\n",
    "Design and implement a deep learning model that learns to recognize traffic signs. Train and test your model on the [German Traffic Sign Dataset](http://benchmark.ini.rub.de/?section=gtsrb&subsection=dataset).\n",
    "\n",
    "The LeNet-5 implementation shown in the [classroom](https://classroom.udacity.com/nanodegrees/nd013/parts/fbf77062-5703-404e-b60c-95b78b2f3f9e/modules/6df7ae49-c61c-4bb2-a23e-6527e69209ec/lessons/601ae704-1035-4287-8b11-e2c2716217ad/concepts/d4aca031-508f-4e0b-b493-e7b706120f81) at the end of the CNN lesson is a solid starting point. You'll have to change the number of classes and possibly the preprocessing, but aside from that it's plug and play! \n",
    "\n",
    "With the LeNet-5 solution from the lecture, you should expect a validation set accuracy of about 0.89. To meet specifications, the validation set accuracy will need to be at least 0.93. It is possible to get an even higher accuracy, but 0.93 is the minimum for a successful project submission. \n",
    "\n",
    "There are various aspects to consider when thinking about this problem:\n",
    "\n",
    "- Neural network architecture (is the network over or underfitting?)\n",
    "- Play around preprocessing techniques (normalization, rgb to grayscale, etc)\n",
    "- Number of examples per label (some have more than others).\n",
    "- Generate fake data.\n",
    "\n",
    "Here is an example of a [published baseline model on this problem](http://yann.lecun.com/exdb/publis/pdf/sermanet-ijcnn-11.pdf). It's not required to be familiar with the approach used in the paper but, it's good practice to try to read papers like these."
   ]
  },
  {
   "cell_type": "markdown",
   "metadata": {},
   "source": [
    "### Pre-process the Data Set (normalization, grayscale, etc.)"
   ]
  },
  {
   "cell_type": "markdown",
   "metadata": {},
   "source": [
    "Minimally, the image data should be normalized so that the data has mean zero and equal variance. For image data, `(pixel - 128)/ 128` is a quick way to approximately normalize the data and can be used in this project. \n",
    "\n",
    "Other pre-processing steps are optional. You can try different techniques to see if it improves performance. \n",
    "\n",
    "Use the code cell (or multiple code cells, if necessary) to implement the first step of your project."
   ]
  },
  {
   "cell_type": "code",
   "execution_count": 8,
   "metadata": {
    "collapsed": true
   },
   "outputs": [],
   "source": [
    "import warnings\n",
    "from skimage import exposure\n",
    "\n",
    "def minimax(x, min=0, max=255):\n",
    "    return (x - min) / (max - min)\n",
    "\n",
    "def rgb2gray(rgb):\n",
    "    return np.dot(rgb[...,:3], [0.299, 0.587, 0.114])\n",
    "\n",
    "def normalize_exposure(x):    \n",
    "    with warnings.catch_warnings():\n",
    "        warnings.simplefilter(\"ignore\")\n",
    "        for idx in tqdm(range(len(x))):\n",
    "            x[idx] = exposure.equalize_adapthist(x[idx])\n",
    "        \n",
    "        return x\n",
    "\n",
    "def reshape_inputs(x_data):\n",
    "    shape = list(x_data.shape)\n",
    "    return np.reshape(x_data, shape + [1])\n"
   ]
  },
  {
   "cell_type": "code",
   "execution_count": 9,
   "metadata": {},
   "outputs": [
    {
     "name": "stdout",
     "output_type": "stream",
     "text": [
      "Starting Preprocessing\n",
      "Loading from dataset/processed/train.p\n",
      "Starting Preprocessing\n",
      "Loading from dataset/processed/valid.p\n",
      "Starting Preprocessing\n",
      "Loading from dataset/processed/test.p\n"
     ]
    }
   ],
   "source": [
    "PATH = 'dataset/processed/{}.p'\n",
    "\n",
    "def preprocess(inp, path=None):\n",
    "    print('Starting Preprocessing')\n",
    "    if path != None and os.path.exists(path):\n",
    "        print('Loading from {}'.format(path))\n",
    "        inp_proc = pickle.load(open(path, 'rb'))\n",
    "    else:\n",
    "        # Normalize using minimax\n",
    "        inp_proc = minimax(inp)\n",
    "\n",
    "        # Convert to grayscale\n",
    "        inp_proc = rgb2gray(inp_proc)\n",
    "\n",
    "        # Normalize exposure\n",
    "        inp_proc = normalize_exposure(inp_proc)        \n",
    "\n",
    "        # Persist the processed data if needed\n",
    "        if path != None:\n",
    "            pickle.dump(inp_proc, open(path, 'wb'))\n",
    "    \n",
    "    return inp_proc\n",
    "\n",
    "# Do the preprocessing\n",
    "train_input = preprocess(X_train_extra, PATH.format('train'))\n",
    "valid_input = preprocess(X_valid, PATH.format('valid'))\n",
    "test_input = preprocess(X_test, PATH.format('test'))\n"
   ]
  },
  {
   "cell_type": "code",
   "execution_count": 10,
   "metadata": {
    "collapsed": true
   },
   "outputs": [],
   "source": [
    "# Display the sample images after pre-processing\n",
    "# plt.imshow(sample_images(train_input), cmap = plt.get_cmap('gray'))\n",
    "# plt.show()\n",
    "\n",
    "# # Reshape the inputs\n",
    "train_input = reshape_inputs(train_input)\n",
    "valid_input = reshape_inputs(valid_input)\n",
    "test_input = reshape_inputs(test_input)\n"
   ]
  },
  {
   "cell_type": "markdown",
   "metadata": {},
   "source": [
    "### Model Architecture"
   ]
  },
  {
   "cell_type": "code",
   "execution_count": 11,
   "metadata": {
    "collapsed": true
   },
   "outputs": [],
   "source": [
    "import tensorflow as tf\n",
    "from tensorflow.contrib.layers import flatten\n",
    "from sklearn.utils import shuffle\n",
    "\n",
    "class HyperParameters:\n",
    "    def __init__(self, epochs, batch_size, learning_rate, keep_prob):\n",
    "        self.epochs = epochs\n",
    "        self.batch_size = batch_size\n",
    "        self.learning_rate = learning_rate\n",
    "        self.keep_prob = keep_prob\n",
    "\n",
    "def weights_init(shape):\n",
    "    mu = 0\n",
    "    sigma = 0.1\n",
    "    \n",
    "    return tf.Variable(tf.truncated_normal(shape, mu, sigma))\n",
    "\n",
    "def bias_init(num):\n",
    "    return tf.Variable(tf.zeros(num))\n",
    "\n",
    "# Creates a convolutional layer\n",
    "def convolve(x, filter_shape, no_of_filters, name):\n",
    "    # Define the shape of the weights (Filter dimension * Number of filters)        \n",
    "    weights = weights_init(filter_shape + [no_of_filters])\n",
    "    bias = bias_init(no_of_filters)\n",
    "    \n",
    "    # Construct the layer\n",
    "    layer = tf.nn.conv2d(x, weights, [1, 1, 1, 1], 'VALID', name=name) + bias\n",
    "    \n",
    "    # Do the activation and return \n",
    "    return tf.nn.relu(layer)\n",
    "                      \n",
    "def max_pool(x):\n",
    "    return tf.nn.max_pool(x, [1, 2, 2, 1], [1, 2, 2, 1], 'VALID')\n",
    "\n",
    "def fully_connect(x, no_of_neurons, with_activation=True):\n",
    "    shape = x.get_shape().as_list()\n",
    "    del shape[0]\n",
    "    weights = weights_init(shape + [no_of_neurons])\n",
    "    bias = bias_init(no_of_neurons)\n",
    "    \n",
    "    layer = tf.matmul(x, weights) + bias\n",
    "    \n",
    "    # If activation is required\n",
    "    if with_activation:\n",
    "        layer = tf.nn.relu(layer)\n",
    "    \n",
    "    return layer\n",
    "\n",
    "\n",
    "def network(x, y, keep_prob, no_of_classes):\n",
    "    # Get the depth\n",
    "    depth = x.get_shape().as_list()[len(x.shape) - 1]\n",
    "    \n",
    "    # Layer 1: Convolutional\n",
    "    convo_1 = convolve(x, [5, 5, depth], 6, name='convolve_1')\n",
    "    \n",
    "    # Layer 2: Max-Pooling\n",
    "    max_pool_1 = max_pool(convo_1)\n",
    "    \n",
    "    # Get the depth\n",
    "    depth = max_pool_1.get_shape().as_list()[len(x.shape) - 1]\n",
    "    \n",
    "    # Layer 3: Convolutional\n",
    "    convo_2 = convolve(max_pool_1, [5, 5, depth], 16, name='convolve_2')\n",
    "    \n",
    "    # Layer 4: Max-Pooling\n",
    "    max_pool_2 = max_pool(convo_2)\n",
    "    \n",
    "    # Flatten\n",
    "    out = flatten(max_pool_2)\n",
    "    \n",
    "    # Layer 5: Fully connected\n",
    "    out = fully_connect(out, 120)\n",
    "    \n",
    "    # Add a dropout\n",
    "    out = tf.nn.dropout(out, keep_prob)\n",
    "    \n",
    "    # Layer 6: Fully connected\n",
    "    out = fully_connect(out, 84)\n",
    "    \n",
    "    # Add a dropout\n",
    "    out = tf.nn.dropout(out, keep_prob)\n",
    "    \n",
    "    # Concatenate with the earlier layers output\n",
    "    #out = tf.concat([out, flatten(convo_1), flatten(max_pool_1), flatten(convo_1), flatten(max_pool_2)], 1)\n",
    "    \n",
    "    # Layer 7: Fully connected (Without activation)\n",
    "    logits = fully_connect(out, no_of_classes, False)\n",
    "    \n",
    "    # Optimizers    \n",
    "    cross_entropy = tf.nn.softmax_cross_entropy_with_logits(labels=y, logits=logits)\n",
    "    loss = tf.reduce_mean(cross_entropy)\n",
    "    optimizer = tf.train.AdamOptimizer(learning_rate=params.learning_rate)\n",
    "    training_graph = optimizer.minimize(loss)\n",
    "    \n",
    "    # For accuracy\n",
    "    prediction_graph = tf.equal(tf.argmax(logits, 1), tf.argmax(y, 1))\n",
    "    \n",
    "    return logits, training_graph, prediction_graph, convo_1, convo_2\n",
    "\n",
    "def validate(x_data, y_data, logits, prediction_graph, batch_size):\n",
    "    num_examples = len(x_data)\n",
    "    total_accuracy = 0\n",
    "    \n",
    "    accuracy_graph = tf.reduce_mean(tf.cast(prediction_graph, tf.float32))\n",
    "    \n",
    "    sess = tf.get_default_session()\n",
    "    for offset in range(0, num_examples, batch_size):\n",
    "        end = offset + params.batch_size\n",
    "        batch_x, batch_y = x_data[offset:end], y_data[offset:end]\n",
    "        accuracy = sess.run(accuracy_graph, feed_dict={x: batch_x, y: batch_y, keep_prob: 1.0})\n",
    "        total_accuracy += (accuracy * len(batch_x))\n",
    "        \n",
    "    return total_accuracy / num_examples\n",
    "    \n",
    "\n",
    "def train(x_data, y_data, training_graph, logits, prediction_graph, params, x_valid, y_valid):\n",
    "    # To save the model at the end of training session\n",
    "    saver = tf.train.Saver()\n",
    "    \n",
    "    with tf.Session() as sess:\n",
    "        # Initializing all the variables\n",
    "        sess.run(tf.global_variables_initializer())\n",
    "        num_examples = len(x_data)\n",
    "        \n",
    "        print('Training...')\n",
    "        print()\n",
    "        \n",
    "        # For each epoch\n",
    "        for idx in tqdm(range(params.epochs)):\n",
    "            # some randomness in data\n",
    "            x_data, y_data = shuffle(x_data, y_data)\n",
    "            \n",
    "            for offset in range(0, num_examples, params.batch_size):\n",
    "                end = offset + params.batch_size\n",
    "                batch_x, batch_y = x_data[offset:end], y_data[offset:end]\n",
    "                                                \n",
    "                # Start the run\n",
    "                sess.run(training_graph, feed_dict={x:batch_x, y:batch_y, keep_prob: params.keep_prob})\n",
    "            \n",
    "            # Compute the training accuracy\n",
    "            training_accuracy = validate(x_data, y_data, logits, prediction_graph, params.batch_size)\n",
    "            \n",
    "            # Compute the validation accuracy\n",
    "            validation_accuracy = validate(x_valid, y_valid, logits, prediction_graph, params.batch_size)\n",
    "            \n",
    "            print('EPOCH {} ...'.format(idx + 1))\n",
    "            print('Training Accuracy = {:.3f}'.format(training_accuracy))\n",
    "            print('Validation Accuracy = {:.3f}'.format(validation_accuracy))            \n",
    "            \n",
    "        saver.save(sess, './traffic_sign.ckpt')\n",
    "        print('Model saved')\n",
    "            \n",
    "    \n",
    "def test(x_data, y_data, logits, prediction_graph, batch_size):\n",
    "    with tf.Session() as sess:\n",
    "        saver = tf.train.Saver()\n",
    "        \n",
    "        saver.restore(sess, './traffic_sign.ckpt')\n",
    "        \n",
    "        accuracy = validate(x_data, y_data, logits, prediction_graph, batch_size)\n",
    "        print('Test Accuracy = {:.3f}'.format(accuracy))\n",
    "        \n",
    "        return accuracy\n",
    "\n",
    "def get_predictions(x_data, y_data, logits, top=5):\n",
    "    with tf.Session() as sess:\n",
    "        saver = tf.train.Saver()\n",
    "        \n",
    "        saver.restore(sess, './traffic_sign.ckpt')        \n",
    "        \n",
    "        return sess.run(tf.nn.top_k(tf.nn.softmax(logits), k=top), feed_dict={x: x_data, y: y_data, keep_prob: 1.0})\n",
    "\n",
    "    "
   ]
  },
  {
   "cell_type": "markdown",
   "metadata": {},
   "source": [
    "### Train, Validate and Test the Model"
   ]
  },
  {
   "cell_type": "markdown",
   "metadata": {},
   "source": [
    "A validation set can be used to assess how well the model is performing. A low accuracy on the training and validation\n",
    "sets imply underfitting. A high accuracy on the training set but low accuracy on the validation set implies overfitting."
   ]
  },
  {
   "cell_type": "code",
   "execution_count": 12,
   "metadata": {
    "collapsed": true
   },
   "outputs": [],
   "source": [
    "# Initialize Hyperparameters\n",
    "params = HyperParameters(epochs=100, batch_size=512, learning_rate=0.001, keep_prob=0.6)\n",
    "\n",
    "# Prepare the features and labels\n",
    "input_shape = list(train_input.shape)\n",
    "input_shape[0] = None\n",
    "\n",
    "keep_prob = tf.placeholder(tf.float32)\n",
    "x = tf.placeholder(tf.float32, input_shape)\n",
    "y = tf.placeholder(tf.int32, (None))\n",
    "one_hot_y = tf.one_hot(y, n_classes)\n",
    "\n",
    "# Build the network training graph\n",
    "logits, training_graph, prediction_graph, convo_1, convo_2 = network(x, one_hot_y, keep_prob, n_classes)\n"
   ]
  },
  {
   "cell_type": "markdown",
   "metadata": {},
   "source": [
    "### Training the model"
   ]
  },
  {
   "cell_type": "code",
   "execution_count": 13,
   "metadata": {},
   "outputs": [
    {
     "name": "stdout",
     "output_type": "stream",
     "text": [
      "Training...\n",
      "\n"
     ]
    },
    {
     "name": "stderr",
     "output_type": "stream",
     "text": [
      "\r",
      "  0%|                                                                       | 0/100 [00:00<?, ?it/s]"
     ]
    },
    {
     "name": "stdout",
     "output_type": "stream",
     "text": [
      "EPOCH 1 ...\n",
      "Training Accuracy = 0.619\n",
      "Validation Accuracy = 0.565\n"
     ]
    },
    {
     "name": "stderr",
     "output_type": "stream",
     "text": [
      "\r",
      "  1%|▋                                                              | 1/100 [00:16<27:43, 16.80s/it]"
     ]
    },
    {
     "name": "stdout",
     "output_type": "stream",
     "text": [
      "EPOCH 2 ...\n",
      "Training Accuracy = 0.805\n",
      "Validation Accuracy = 0.774\n"
     ]
    },
    {
     "name": "stderr",
     "output_type": "stream",
     "text": [
      "\r",
      "  2%|█▎                                                             | 2/100 [00:32<26:44, 16.37s/it]"
     ]
    },
    {
     "name": "stdout",
     "output_type": "stream",
     "text": [
      "EPOCH 3 ...\n",
      "Training Accuracy = 0.862\n",
      "Validation Accuracy = 0.832\n"
     ]
    },
    {
     "name": "stderr",
     "output_type": "stream",
     "text": [
      "\r",
      "  3%|█▉                                                             | 3/100 [00:46<25:35, 15.83s/it]"
     ]
    },
    {
     "name": "stdout",
     "output_type": "stream",
     "text": [
      "EPOCH 4 ...\n",
      "Training Accuracy = 0.888\n",
      "Validation Accuracy = 0.860\n"
     ]
    },
    {
     "name": "stderr",
     "output_type": "stream",
     "text": [
      "\r",
      "  4%|██▌                                                            | 4/100 [01:01<24:46, 15.49s/it]"
     ]
    },
    {
     "name": "stdout",
     "output_type": "stream",
     "text": [
      "EPOCH 5 ...\n",
      "Training Accuracy = 0.904\n",
      "Validation Accuracy = 0.878\n"
     ]
    },
    {
     "name": "stderr",
     "output_type": "stream",
     "text": [
      "\r",
      "  5%|███▏                                                           | 5/100 [01:19<25:56, 16.39s/it]"
     ]
    },
    {
     "name": "stdout",
     "output_type": "stream",
     "text": [
      "EPOCH 6 ...\n",
      "Training Accuracy = 0.920\n",
      "Validation Accuracy = 0.892\n"
     ]
    },
    {
     "name": "stderr",
     "output_type": "stream",
     "text": [
      "\r",
      "  6%|███▊                                                           | 6/100 [01:36<25:44, 16.43s/it]"
     ]
    },
    {
     "name": "stdout",
     "output_type": "stream",
     "text": [
      "EPOCH 7 ...\n",
      "Training Accuracy = 0.933\n",
      "Validation Accuracy = 0.904\n"
     ]
    },
    {
     "name": "stderr",
     "output_type": "stream",
     "text": [
      "\r",
      "  7%|████▍                                                          | 7/100 [01:52<25:05, 16.19s/it]"
     ]
    },
    {
     "name": "stdout",
     "output_type": "stream",
     "text": [
      "EPOCH 8 ...\n",
      "Training Accuracy = 0.943\n",
      "Validation Accuracy = 0.915\n"
     ]
    },
    {
     "name": "stderr",
     "output_type": "stream",
     "text": [
      "\r",
      "  8%|█████                                                          | 8/100 [02:06<24:05, 15.71s/it]"
     ]
    },
    {
     "name": "stdout",
     "output_type": "stream",
     "text": [
      "EPOCH 9 ...\n",
      "Training Accuracy = 0.949\n",
      "Validation Accuracy = 0.916\n"
     ]
    },
    {
     "name": "stderr",
     "output_type": "stream",
     "text": [
      "\r",
      "  9%|█████▋                                                         | 9/100 [02:20<22:49, 15.05s/it]"
     ]
    },
    {
     "name": "stdout",
     "output_type": "stream",
     "text": [
      "EPOCH 10 ...\n",
      "Training Accuracy = 0.955\n",
      "Validation Accuracy = 0.924\n"
     ]
    },
    {
     "name": "stderr",
     "output_type": "stream",
     "text": [
      "\r",
      " 10%|██████▏                                                       | 10/100 [02:33<21:48, 14.54s/it]"
     ]
    },
    {
     "name": "stdout",
     "output_type": "stream",
     "text": [
      "EPOCH 11 ...\n",
      "Training Accuracy = 0.960\n",
      "Validation Accuracy = 0.931\n"
     ]
    },
    {
     "name": "stderr",
     "output_type": "stream",
     "text": [
      "\r",
      " 11%|██████▊                                                       | 11/100 [02:47<21:10, 14.28s/it]"
     ]
    },
    {
     "name": "stdout",
     "output_type": "stream",
     "text": [
      "EPOCH 12 ...\n",
      "Training Accuracy = 0.961\n",
      "Validation Accuracy = 0.929\n"
     ]
    },
    {
     "name": "stderr",
     "output_type": "stream",
     "text": [
      "\r",
      " 12%|███████▍                                                      | 12/100 [03:00<20:30, 13.98s/it]"
     ]
    },
    {
     "name": "stdout",
     "output_type": "stream",
     "text": [
      "EPOCH 13 ...\n",
      "Training Accuracy = 0.965\n",
      "Validation Accuracy = 0.934\n"
     ]
    },
    {
     "name": "stderr",
     "output_type": "stream",
     "text": [
      "\r",
      " 13%|████████                                                      | 13/100 [03:13<19:58, 13.78s/it]"
     ]
    },
    {
     "name": "stdout",
     "output_type": "stream",
     "text": [
      "EPOCH 14 ...\n",
      "Training Accuracy = 0.969\n",
      "Validation Accuracy = 0.938\n"
     ]
    },
    {
     "name": "stderr",
     "output_type": "stream",
     "text": [
      "\r",
      " 14%|████████▋                                                     | 14/100 [03:27<19:35, 13.67s/it]"
     ]
    },
    {
     "name": "stdout",
     "output_type": "stream",
     "text": [
      "EPOCH 15 ...\n",
      "Training Accuracy = 0.971\n",
      "Validation Accuracy = 0.936\n"
     ]
    },
    {
     "name": "stderr",
     "output_type": "stream",
     "text": [
      "\r",
      " 15%|█████████▎                                                    | 15/100 [03:40<19:10, 13.54s/it]"
     ]
    },
    {
     "name": "stdout",
     "output_type": "stream",
     "text": [
      "EPOCH 16 ...\n",
      "Training Accuracy = 0.973\n",
      "Validation Accuracy = 0.942\n"
     ]
    },
    {
     "name": "stderr",
     "output_type": "stream",
     "text": [
      "\r",
      " 16%|█████████▉                                                    | 16/100 [03:53<18:54, 13.50s/it]"
     ]
    },
    {
     "name": "stdout",
     "output_type": "stream",
     "text": [
      "EPOCH 17 ...\n",
      "Training Accuracy = 0.975\n",
      "Validation Accuracy = 0.941\n"
     ]
    },
    {
     "name": "stderr",
     "output_type": "stream",
     "text": [
      "\r",
      " 17%|██████████▌                                                   | 17/100 [04:07<18:35, 13.44s/it]"
     ]
    },
    {
     "name": "stdout",
     "output_type": "stream",
     "text": [
      "EPOCH 18 ...\n",
      "Training Accuracy = 0.977\n",
      "Validation Accuracy = 0.947\n"
     ]
    },
    {
     "name": "stderr",
     "output_type": "stream",
     "text": [
      "\r",
      " 18%|███████████▏                                                  | 18/100 [04:20<18:18, 13.40s/it]"
     ]
    },
    {
     "name": "stdout",
     "output_type": "stream",
     "text": [
      "EPOCH 19 ...\n",
      "Training Accuracy = 0.978\n",
      "Validation Accuracy = 0.947\n"
     ]
    },
    {
     "name": "stderr",
     "output_type": "stream",
     "text": [
      "\r",
      " 19%|███████████▊                                                  | 19/100 [04:33<18:04, 13.39s/it]"
     ]
    },
    {
     "name": "stdout",
     "output_type": "stream",
     "text": [
      "EPOCH 20 ...\n",
      "Training Accuracy = 0.979\n",
      "Validation Accuracy = 0.947\n"
     ]
    },
    {
     "name": "stderr",
     "output_type": "stream",
     "text": [
      "\r",
      " 20%|████████████▍                                                 | 20/100 [04:47<17:54, 13.43s/it]"
     ]
    },
    {
     "name": "stdout",
     "output_type": "stream",
     "text": [
      "EPOCH 21 ...\n",
      "Training Accuracy = 0.980\n",
      "Validation Accuracy = 0.949\n"
     ]
    },
    {
     "name": "stderr",
     "output_type": "stream",
     "text": [
      "\r",
      " 21%|█████████████                                                 | 21/100 [05:00<17:38, 13.40s/it]"
     ]
    },
    {
     "name": "stdout",
     "output_type": "stream",
     "text": [
      "EPOCH 22 ...\n",
      "Training Accuracy = 0.981\n",
      "Validation Accuracy = 0.955\n"
     ]
    },
    {
     "name": "stderr",
     "output_type": "stream",
     "text": [
      "\r",
      " 22%|█████████████▋                                                | 22/100 [05:13<17:22, 13.37s/it]"
     ]
    },
    {
     "name": "stdout",
     "output_type": "stream",
     "text": [
      "EPOCH 23 ...\n",
      "Training Accuracy = 0.983\n",
      "Validation Accuracy = 0.955\n"
     ]
    },
    {
     "name": "stderr",
     "output_type": "stream",
     "text": [
      "\r",
      " 23%|██████████████▎                                               | 23/100 [05:27<17:06, 13.33s/it]"
     ]
    },
    {
     "name": "stdout",
     "output_type": "stream",
     "text": [
      "EPOCH 24 ...\n",
      "Training Accuracy = 0.983\n",
      "Validation Accuracy = 0.955\n"
     ]
    },
    {
     "name": "stderr",
     "output_type": "stream",
     "text": [
      "\r",
      " 24%|██████████████▉                                               | 24/100 [05:40<16:52, 13.32s/it]"
     ]
    },
    {
     "name": "stdout",
     "output_type": "stream",
     "text": [
      "EPOCH 25 ...\n",
      "Training Accuracy = 0.984\n",
      "Validation Accuracy = 0.955\n"
     ]
    },
    {
     "name": "stderr",
     "output_type": "stream",
     "text": [
      "\r",
      " 25%|███████████████▌                                              | 25/100 [05:53<16:38, 13.32s/it]"
     ]
    },
    {
     "name": "stdout",
     "output_type": "stream",
     "text": [
      "EPOCH 26 ...\n",
      "Training Accuracy = 0.984\n",
      "Validation Accuracy = 0.957\n"
     ]
    },
    {
     "name": "stderr",
     "output_type": "stream",
     "text": [
      "\r",
      " 26%|████████████████                                              | 26/100 [06:06<16:22, 13.27s/it]"
     ]
    },
    {
     "name": "stdout",
     "output_type": "stream",
     "text": [
      "EPOCH 27 ...\n",
      "Training Accuracy = 0.986\n",
      "Validation Accuracy = 0.961\n"
     ]
    },
    {
     "name": "stderr",
     "output_type": "stream",
     "text": [
      "\r",
      " 27%|████████████████▋                                             | 27/100 [06:20<16:09, 13.28s/it]"
     ]
    },
    {
     "name": "stdout",
     "output_type": "stream",
     "text": [
      "EPOCH 28 ...\n",
      "Training Accuracy = 0.986\n",
      "Validation Accuracy = 0.953\n"
     ]
    },
    {
     "name": "stderr",
     "output_type": "stream",
     "text": [
      "\r",
      " 28%|█████████████████▎                                            | 28/100 [06:33<15:56, 13.29s/it]"
     ]
    },
    {
     "name": "stdout",
     "output_type": "stream",
     "text": [
      "EPOCH 29 ...\n",
      "Training Accuracy = 0.987\n",
      "Validation Accuracy = 0.959\n"
     ]
    },
    {
     "name": "stderr",
     "output_type": "stream",
     "text": [
      "\r",
      " 29%|█████████████████▉                                            | 29/100 [06:47<15:47, 13.35s/it]"
     ]
    },
    {
     "name": "stdout",
     "output_type": "stream",
     "text": [
      "EPOCH 30 ...\n",
      "Training Accuracy = 0.988\n",
      "Validation Accuracy = 0.961\n"
     ]
    },
    {
     "name": "stderr",
     "output_type": "stream",
     "text": [
      "\r",
      " 30%|██████████████████▌                                           | 30/100 [07:00<15:33, 13.33s/it]"
     ]
    },
    {
     "name": "stdout",
     "output_type": "stream",
     "text": [
      "EPOCH 31 ...\n",
      "Training Accuracy = 0.988\n",
      "Validation Accuracy = 0.964\n"
     ]
    },
    {
     "name": "stderr",
     "output_type": "stream",
     "text": [
      "\r",
      " 31%|███████████████████▏                                          | 31/100 [07:13<15:19, 13.32s/it]"
     ]
    },
    {
     "name": "stdout",
     "output_type": "stream",
     "text": [
      "EPOCH 32 ...\n",
      "Training Accuracy = 0.989\n",
      "Validation Accuracy = 0.959\n"
     ]
    },
    {
     "name": "stderr",
     "output_type": "stream",
     "text": [
      "\r",
      " 32%|███████████████████▊                                          | 32/100 [07:26<15:03, 13.28s/it]"
     ]
    },
    {
     "name": "stdout",
     "output_type": "stream",
     "text": [
      "EPOCH 33 ...\n",
      "Training Accuracy = 0.988\n",
      "Validation Accuracy = 0.961\n"
     ]
    },
    {
     "name": "stderr",
     "output_type": "stream",
     "text": [
      "\r",
      " 33%|████████████████████▍                                         | 33/100 [07:40<14:49, 13.27s/it]"
     ]
    },
    {
     "name": "stdout",
     "output_type": "stream",
     "text": [
      "EPOCH 34 ...\n",
      "Training Accuracy = 0.988\n",
      "Validation Accuracy = 0.957\n"
     ]
    },
    {
     "name": "stderr",
     "output_type": "stream",
     "text": [
      "\r",
      " 34%|█████████████████████                                         | 34/100 [07:53<14:36, 13.27s/it]"
     ]
    },
    {
     "name": "stdout",
     "output_type": "stream",
     "text": [
      "EPOCH 35 ...\n",
      "Training Accuracy = 0.989\n",
      "Validation Accuracy = 0.961\n"
     ]
    },
    {
     "name": "stderr",
     "output_type": "stream",
     "text": [
      "\r",
      " 35%|█████████████████████▋                                        | 35/100 [08:06<14:22, 13.26s/it]"
     ]
    },
    {
     "name": "stdout",
     "output_type": "stream",
     "text": [
      "EPOCH 36 ...\n",
      "Training Accuracy = 0.990\n",
      "Validation Accuracy = 0.962\n"
     ]
    },
    {
     "name": "stderr",
     "output_type": "stream",
     "text": [
      "\r",
      " 36%|██████████████████████▎                                       | 36/100 [08:19<14:09, 13.28s/it]"
     ]
    },
    {
     "name": "stdout",
     "output_type": "stream",
     "text": [
      "EPOCH 37 ...\n",
      "Training Accuracy = 0.991\n",
      "Validation Accuracy = 0.960\n"
     ]
    },
    {
     "name": "stderr",
     "output_type": "stream",
     "text": [
      "\r",
      " 37%|██████████████████████▉                                       | 37/100 [08:33<13:56, 13.28s/it]"
     ]
    },
    {
     "name": "stdout",
     "output_type": "stream",
     "text": [
      "EPOCH 38 ...\n",
      "Training Accuracy = 0.991\n",
      "Validation Accuracy = 0.963\n"
     ]
    },
    {
     "name": "stderr",
     "output_type": "stream",
     "text": [
      "\r",
      " 38%|███████████████████████▌                                      | 38/100 [08:46<13:46, 13.34s/it]"
     ]
    },
    {
     "name": "stdout",
     "output_type": "stream",
     "text": [
      "EPOCH 39 ...\n",
      "Training Accuracy = 0.991\n",
      "Validation Accuracy = 0.963\n"
     ]
    },
    {
     "name": "stderr",
     "output_type": "stream",
     "text": [
      "\r",
      " 39%|████████████████████████▏                                     | 39/100 [09:00<13:33, 13.33s/it]"
     ]
    },
    {
     "name": "stdout",
     "output_type": "stream",
     "text": [
      "EPOCH 40 ...\n",
      "Training Accuracy = 0.991\n",
      "Validation Accuracy = 0.965\n"
     ]
    },
    {
     "name": "stderr",
     "output_type": "stream",
     "text": [
      "\r",
      " 40%|████████████████████████▊                                     | 40/100 [09:13<13:19, 13.33s/it]"
     ]
    },
    {
     "name": "stdout",
     "output_type": "stream",
     "text": [
      "EPOCH 41 ...\n",
      "Training Accuracy = 0.992\n",
      "Validation Accuracy = 0.965\n"
     ]
    },
    {
     "name": "stderr",
     "output_type": "stream",
     "text": [
      "\r",
      " 41%|█████████████████████████▍                                    | 41/100 [09:26<13:05, 13.31s/it]"
     ]
    },
    {
     "name": "stdout",
     "output_type": "stream",
     "text": [
      "EPOCH 42 ...\n",
      "Training Accuracy = 0.992\n",
      "Validation Accuracy = 0.963\n"
     ]
    },
    {
     "name": "stderr",
     "output_type": "stream",
     "text": [
      "\r",
      " 42%|██████████████████████████                                    | 42/100 [09:39<12:50, 13.29s/it]"
     ]
    },
    {
     "name": "stdout",
     "output_type": "stream",
     "text": [
      "EPOCH 43 ...\n",
      "Training Accuracy = 0.991\n",
      "Validation Accuracy = 0.963\n"
     ]
    },
    {
     "name": "stderr",
     "output_type": "stream",
     "text": [
      "\r",
      " 43%|██████████████████████████▋                                   | 43/100 [09:53<12:36, 13.27s/it]"
     ]
    },
    {
     "name": "stdout",
     "output_type": "stream",
     "text": [
      "EPOCH 44 ...\n",
      "Training Accuracy = 0.992\n",
      "Validation Accuracy = 0.965\n"
     ]
    },
    {
     "name": "stderr",
     "output_type": "stream",
     "text": [
      "\r",
      " 44%|███████████████████████████▎                                  | 44/100 [10:06<12:23, 13.28s/it]"
     ]
    },
    {
     "name": "stdout",
     "output_type": "stream",
     "text": [
      "EPOCH 45 ...\n",
      "Training Accuracy = 0.993\n",
      "Validation Accuracy = 0.965\n"
     ]
    },
    {
     "name": "stderr",
     "output_type": "stream",
     "text": [
      "\r",
      " 45%|███████████████████████████▉                                  | 45/100 [10:19<12:11, 13.30s/it]"
     ]
    },
    {
     "name": "stdout",
     "output_type": "stream",
     "text": [
      "EPOCH 46 ...\n",
      "Training Accuracy = 0.993\n",
      "Validation Accuracy = 0.961\n"
     ]
    },
    {
     "name": "stderr",
     "output_type": "stream",
     "text": [
      "\r",
      " 46%|████████████████████████████▌                                 | 46/100 [10:33<11:58, 13.31s/it]"
     ]
    },
    {
     "name": "stdout",
     "output_type": "stream",
     "text": [
      "EPOCH 47 ...\n",
      "Training Accuracy = 0.993\n",
      "Validation Accuracy = 0.962\n"
     ]
    },
    {
     "name": "stderr",
     "output_type": "stream",
     "text": [
      "\r",
      " 47%|█████████████████████████████▏                                | 47/100 [10:46<11:50, 13.40s/it]"
     ]
    },
    {
     "name": "stdout",
     "output_type": "stream",
     "text": [
      "EPOCH 48 ...\n",
      "Training Accuracy = 0.993\n",
      "Validation Accuracy = 0.963\n"
     ]
    },
    {
     "name": "stderr",
     "output_type": "stream",
     "text": [
      "\r",
      " 48%|█████████████████████████████▊                                | 48/100 [10:59<11:34, 13.36s/it]"
     ]
    },
    {
     "name": "stdout",
     "output_type": "stream",
     "text": [
      "EPOCH 49 ...\n",
      "Training Accuracy = 0.994\n",
      "Validation Accuracy = 0.967\n"
     ]
    },
    {
     "name": "stderr",
     "output_type": "stream",
     "text": [
      "\r",
      " 49%|██████████████████████████████▍                               | 49/100 [11:13<11:20, 13.35s/it]"
     ]
    },
    {
     "name": "stdout",
     "output_type": "stream",
     "text": [
      "EPOCH 50 ...\n",
      "Training Accuracy = 0.993\n",
      "Validation Accuracy = 0.965\n"
     ]
    },
    {
     "name": "stderr",
     "output_type": "stream",
     "text": [
      "\r",
      " 50%|███████████████████████████████                               | 50/100 [11:26<11:07, 13.36s/it]"
     ]
    },
    {
     "name": "stdout",
     "output_type": "stream",
     "text": [
      "EPOCH 51 ...\n",
      "Training Accuracy = 0.992\n",
      "Validation Accuracy = 0.961\n"
     ]
    },
    {
     "name": "stderr",
     "output_type": "stream",
     "text": [
      "\r",
      " 51%|███████████████████████████████▌                              | 51/100 [11:39<10:53, 13.34s/it]"
     ]
    },
    {
     "name": "stdout",
     "output_type": "stream",
     "text": [
      "EPOCH 52 ...\n",
      "Training Accuracy = 0.995\n",
      "Validation Accuracy = 0.966\n"
     ]
    },
    {
     "name": "stderr",
     "output_type": "stream",
     "text": [
      "\r",
      " 52%|████████████████████████████████▏                             | 52/100 [11:53<10:39, 13.32s/it]"
     ]
    },
    {
     "name": "stdout",
     "output_type": "stream",
     "text": [
      "EPOCH 53 ...\n",
      "Training Accuracy = 0.995\n",
      "Validation Accuracy = 0.969\n"
     ]
    },
    {
     "name": "stderr",
     "output_type": "stream",
     "text": [
      "\r",
      " 53%|████████████████████████████████▊                             | 53/100 [12:06<10:25, 13.31s/it]"
     ]
    },
    {
     "name": "stdout",
     "output_type": "stream",
     "text": [
      "EPOCH 54 ...\n",
      "Training Accuracy = 0.995\n",
      "Validation Accuracy = 0.961\n"
     ]
    },
    {
     "name": "stderr",
     "output_type": "stream",
     "text": [
      "\r",
      " 54%|█████████████████████████████████▍                            | 54/100 [12:19<10:11, 13.29s/it]"
     ]
    },
    {
     "name": "stdout",
     "output_type": "stream",
     "text": [
      "EPOCH 55 ...\n",
      "Training Accuracy = 0.995\n",
      "Validation Accuracy = 0.968\n"
     ]
    },
    {
     "name": "stderr",
     "output_type": "stream",
     "text": [
      "\r",
      " 55%|██████████████████████████████████                            | 55/100 [12:32<09:56, 13.27s/it]"
     ]
    },
    {
     "name": "stdout",
     "output_type": "stream",
     "text": [
      "EPOCH 56 ...\n",
      "Training Accuracy = 0.996\n",
      "Validation Accuracy = 0.966\n"
     ]
    },
    {
     "name": "stderr",
     "output_type": "stream",
     "text": [
      "\r",
      " 56%|██████████████████████████████████▋                           | 56/100 [12:46<09:43, 13.27s/it]"
     ]
    },
    {
     "name": "stdout",
     "output_type": "stream",
     "text": [
      "EPOCH 57 ...\n",
      "Training Accuracy = 0.995\n",
      "Validation Accuracy = 0.968\n"
     ]
    },
    {
     "name": "stderr",
     "output_type": "stream",
     "text": [
      "\r",
      " 57%|███████████████████████████████████▎                          | 57/100 [12:59<09:29, 13.24s/it]"
     ]
    },
    {
     "name": "stdout",
     "output_type": "stream",
     "text": [
      "EPOCH 58 ...\n",
      "Training Accuracy = 0.994\n",
      "Validation Accuracy = 0.962\n"
     ]
    },
    {
     "name": "stderr",
     "output_type": "stream",
     "text": [
      "\r",
      " 58%|███████████████████████████████████▉                          | 58/100 [13:12<09:15, 13.22s/it]"
     ]
    },
    {
     "name": "stdout",
     "output_type": "stream",
     "text": [
      "EPOCH 59 ...\n",
      "Training Accuracy = 0.995\n",
      "Validation Accuracy = 0.967\n"
     ]
    },
    {
     "name": "stderr",
     "output_type": "stream",
     "text": [
      "\r",
      " 59%|████████████████████████████████████▌                         | 59/100 [13:25<09:01, 13.21s/it]"
     ]
    },
    {
     "name": "stdout",
     "output_type": "stream",
     "text": [
      "EPOCH 60 ...\n",
      "Training Accuracy = 0.995\n",
      "Validation Accuracy = 0.967\n"
     ]
    },
    {
     "name": "stderr",
     "output_type": "stream",
     "text": [
      "\r",
      " 60%|█████████████████████████████████████▏                        | 60/100 [13:38<08:47, 13.19s/it]"
     ]
    },
    {
     "name": "stdout",
     "output_type": "stream",
     "text": [
      "EPOCH 61 ...\n",
      "Training Accuracy = 0.995\n",
      "Validation Accuracy = 0.960\n"
     ]
    },
    {
     "name": "stderr",
     "output_type": "stream",
     "text": [
      "\r",
      " 61%|█████████████████████████████████████▊                        | 61/100 [13:52<08:34, 13.19s/it]"
     ]
    },
    {
     "name": "stdout",
     "output_type": "stream",
     "text": [
      "EPOCH 62 ...\n",
      "Training Accuracy = 0.995\n",
      "Validation Accuracy = 0.965\n"
     ]
    },
    {
     "name": "stderr",
     "output_type": "stream",
     "text": [
      "\r",
      " 62%|██████████████████████████████████████▍                       | 62/100 [14:05<08:23, 13.26s/it]"
     ]
    },
    {
     "name": "stdout",
     "output_type": "stream",
     "text": [
      "EPOCH 63 ...\n",
      "Training Accuracy = 0.996\n",
      "Validation Accuracy = 0.969\n"
     ]
    },
    {
     "name": "stderr",
     "output_type": "stream",
     "text": [
      "\r",
      " 63%|███████████████████████████████████████                       | 63/100 [14:18<08:09, 13.24s/it]"
     ]
    },
    {
     "name": "stdout",
     "output_type": "stream",
     "text": [
      "EPOCH 64 ...\n",
      "Training Accuracy = 0.995\n",
      "Validation Accuracy = 0.963\n"
     ]
    },
    {
     "name": "stderr",
     "output_type": "stream",
     "text": [
      "\r",
      " 64%|███████████████████████████████████████▋                      | 64/100 [14:31<07:56, 13.23s/it]"
     ]
    },
    {
     "name": "stdout",
     "output_type": "stream",
     "text": [
      "EPOCH 65 ...\n",
      "Training Accuracy = 0.996\n",
      "Validation Accuracy = 0.968\n"
     ]
    },
    {
     "name": "stderr",
     "output_type": "stream",
     "text": [
      "\r",
      " 65%|████████████████████████████████████████▎                     | 65/100 [14:45<07:44, 13.26s/it]"
     ]
    },
    {
     "name": "stdout",
     "output_type": "stream",
     "text": [
      "EPOCH 66 ...\n",
      "Training Accuracy = 0.996\n",
      "Validation Accuracy = 0.967\n"
     ]
    },
    {
     "name": "stderr",
     "output_type": "stream",
     "text": [
      "\r",
      " 66%|████████████████████████████████████████▉                     | 66/100 [14:58<07:30, 13.25s/it]"
     ]
    },
    {
     "name": "stdout",
     "output_type": "stream",
     "text": [
      "EPOCH 67 ...\n",
      "Training Accuracy = 0.995\n",
      "Validation Accuracy = 0.967\n"
     ]
    },
    {
     "name": "stderr",
     "output_type": "stream",
     "text": [
      "\r",
      " 67%|█████████████████████████████████████████▌                    | 67/100 [15:11<07:16, 13.22s/it]"
     ]
    },
    {
     "name": "stdout",
     "output_type": "stream",
     "text": [
      "EPOCH 68 ...\n",
      "Training Accuracy = 0.996\n",
      "Validation Accuracy = 0.968\n"
     ]
    },
    {
     "name": "stderr",
     "output_type": "stream",
     "text": [
      "\r",
      " 68%|██████████████████████████████████████████▏                   | 68/100 [15:24<07:02, 13.22s/it]"
     ]
    },
    {
     "name": "stdout",
     "output_type": "stream",
     "text": [
      "EPOCH 69 ...\n",
      "Training Accuracy = 0.997\n",
      "Validation Accuracy = 0.969\n"
     ]
    },
    {
     "name": "stderr",
     "output_type": "stream",
     "text": [
      "\r",
      " 69%|██████████████████████████████████████████▊                   | 69/100 [15:38<06:49, 13.21s/it]"
     ]
    },
    {
     "name": "stdout",
     "output_type": "stream",
     "text": [
      "EPOCH 70 ...\n",
      "Training Accuracy = 0.997\n",
      "Validation Accuracy = 0.969\n"
     ]
    },
    {
     "name": "stderr",
     "output_type": "stream",
     "text": [
      "\r",
      " 70%|███████████████████████████████████████████▍                  | 70/100 [15:51<06:36, 13.21s/it]"
     ]
    },
    {
     "name": "stdout",
     "output_type": "stream",
     "text": [
      "EPOCH 71 ...\n",
      "Training Accuracy = 0.997\n",
      "Validation Accuracy = 0.968\n"
     ]
    },
    {
     "name": "stderr",
     "output_type": "stream",
     "text": [
      "\r",
      " 71%|████████████████████████████████████████████                  | 71/100 [16:04<06:22, 13.19s/it]"
     ]
    },
    {
     "name": "stdout",
     "output_type": "stream",
     "text": [
      "EPOCH 72 ...\n",
      "Training Accuracy = 0.997\n",
      "Validation Accuracy = 0.969\n"
     ]
    },
    {
     "name": "stderr",
     "output_type": "stream",
     "text": [
      "\r",
      " 72%|████████████████████████████████████████████▋                 | 72/100 [16:17<06:09, 13.20s/it]"
     ]
    },
    {
     "name": "stdout",
     "output_type": "stream",
     "text": [
      "EPOCH 73 ...\n",
      "Training Accuracy = 0.996\n",
      "Validation Accuracy = 0.965\n"
     ]
    },
    {
     "name": "stderr",
     "output_type": "stream",
     "text": [
      "\r",
      " 73%|█████████████████████████████████████████████▎                | 73/100 [16:30<05:56, 13.22s/it]"
     ]
    },
    {
     "name": "stdout",
     "output_type": "stream",
     "text": [
      "EPOCH 74 ...\n",
      "Training Accuracy = 0.997\n",
      "Validation Accuracy = 0.963\n"
     ]
    },
    {
     "name": "stderr",
     "output_type": "stream",
     "text": [
      "\r",
      " 74%|█████████████████████████████████████████████▉                | 74/100 [16:44<05:44, 13.25s/it]"
     ]
    },
    {
     "name": "stdout",
     "output_type": "stream",
     "text": [
      "EPOCH 75 ...\n",
      "Training Accuracy = 0.997\n",
      "Validation Accuracy = 0.969\n"
     ]
    },
    {
     "name": "stderr",
     "output_type": "stream",
     "text": [
      "\r",
      " 75%|██████████████████████████████████████████████▌               | 75/100 [16:57<05:30, 13.23s/it]"
     ]
    },
    {
     "name": "stdout",
     "output_type": "stream",
     "text": [
      "EPOCH 76 ...\n",
      "Training Accuracy = 0.997\n",
      "Validation Accuracy = 0.967\n"
     ]
    },
    {
     "name": "stderr",
     "output_type": "stream",
     "text": [
      "\r",
      " 76%|███████████████████████████████████████████████               | 76/100 [17:10<05:17, 13.23s/it]"
     ]
    },
    {
     "name": "stdout",
     "output_type": "stream",
     "text": [
      "EPOCH 77 ...\n",
      "Training Accuracy = 0.997\n",
      "Validation Accuracy = 0.965\n"
     ]
    },
    {
     "name": "stderr",
     "output_type": "stream",
     "text": [
      "\r",
      " 77%|███████████████████████████████████████████████▋              | 77/100 [17:23<05:04, 13.23s/it]"
     ]
    },
    {
     "name": "stdout",
     "output_type": "stream",
     "text": [
      "EPOCH 78 ...\n",
      "Training Accuracy = 0.997\n",
      "Validation Accuracy = 0.966\n"
     ]
    },
    {
     "name": "stderr",
     "output_type": "stream",
     "text": [
      "\r",
      " 78%|████████████████████████████████████████████████▎             | 78/100 [17:37<04:51, 13.24s/it]"
     ]
    },
    {
     "name": "stdout",
     "output_type": "stream",
     "text": [
      "EPOCH 79 ...\n",
      "Training Accuracy = 0.997\n",
      "Validation Accuracy = 0.971\n"
     ]
    },
    {
     "name": "stderr",
     "output_type": "stream",
     "text": [
      "\r",
      " 79%|████████████████████████████████████████████████▉             | 79/100 [17:50<04:37, 13.23s/it]"
     ]
    },
    {
     "name": "stdout",
     "output_type": "stream",
     "text": [
      "EPOCH 80 ...\n",
      "Training Accuracy = 0.998\n",
      "Validation Accuracy = 0.970\n"
     ]
    },
    {
     "name": "stderr",
     "output_type": "stream",
     "text": [
      "\r",
      " 80%|█████████████████████████████████████████████████▌            | 80/100 [18:03<04:24, 13.22s/it]"
     ]
    },
    {
     "name": "stdout",
     "output_type": "stream",
     "text": [
      "EPOCH 81 ...\n",
      "Training Accuracy = 0.998\n",
      "Validation Accuracy = 0.968\n"
     ]
    },
    {
     "name": "stderr",
     "output_type": "stream",
     "text": [
      "\r",
      " 81%|██████████████████████████████████████████████████▏           | 81/100 [18:16<04:11, 13.21s/it]"
     ]
    },
    {
     "name": "stdout",
     "output_type": "stream",
     "text": [
      "EPOCH 82 ...\n",
      "Training Accuracy = 0.996\n",
      "Validation Accuracy = 0.965\n"
     ]
    },
    {
     "name": "stderr",
     "output_type": "stream",
     "text": [
      "\r",
      " 82%|██████████████████████████████████████████████████▊           | 82/100 [18:30<03:58, 13.25s/it]"
     ]
    },
    {
     "name": "stdout",
     "output_type": "stream",
     "text": [
      "EPOCH 83 ...\n",
      "Training Accuracy = 0.998\n",
      "Validation Accuracy = 0.968\n"
     ]
    },
    {
     "name": "stderr",
     "output_type": "stream",
     "text": [
      "\r",
      " 83%|███████████████████████████████████████████████████▍          | 83/100 [18:43<03:45, 13.28s/it]"
     ]
    },
    {
     "name": "stdout",
     "output_type": "stream",
     "text": [
      "EPOCH 84 ...\n",
      "Training Accuracy = 0.997\n",
      "Validation Accuracy = 0.967\n"
     ]
    },
    {
     "name": "stderr",
     "output_type": "stream",
     "text": [
      "\r",
      " 84%|████████████████████████████████████████████████████          | 84/100 [18:56<03:32, 13.25s/it]"
     ]
    },
    {
     "name": "stdout",
     "output_type": "stream",
     "text": [
      "EPOCH 85 ...\n",
      "Training Accuracy = 0.998\n",
      "Validation Accuracy = 0.970\n"
     ]
    },
    {
     "name": "stderr",
     "output_type": "stream",
     "text": [
      "\r",
      " 85%|████████████████████████████████████████████████████▋         | 85/100 [19:09<03:18, 13.24s/it]"
     ]
    },
    {
     "name": "stdout",
     "output_type": "stream",
     "text": [
      "EPOCH 86 ...\n",
      "Training Accuracy = 0.998\n",
      "Validation Accuracy = 0.968\n"
     ]
    },
    {
     "name": "stderr",
     "output_type": "stream",
     "text": [
      "\r",
      " 86%|█████████████████████████████████████████████████████▎        | 86/100 [19:22<03:05, 13.23s/it]"
     ]
    },
    {
     "name": "stdout",
     "output_type": "stream",
     "text": [
      "EPOCH 87 ...\n",
      "Training Accuracy = 0.997\n",
      "Validation Accuracy = 0.968\n"
     ]
    },
    {
     "name": "stderr",
     "output_type": "stream",
     "text": [
      "\r",
      " 87%|█████████████████████████████████████████████████████▉        | 87/100 [19:36<02:52, 13.26s/it]"
     ]
    },
    {
     "name": "stdout",
     "output_type": "stream",
     "text": [
      "EPOCH 88 ...\n",
      "Training Accuracy = 0.997\n",
      "Validation Accuracy = 0.964\n"
     ]
    },
    {
     "name": "stderr",
     "output_type": "stream",
     "text": [
      "\r",
      " 88%|██████████████████████████████████████████████████████▌       | 88/100 [19:49<02:38, 13.24s/it]"
     ]
    },
    {
     "name": "stdout",
     "output_type": "stream",
     "text": [
      "EPOCH 89 ...\n",
      "Training Accuracy = 0.998\n",
      "Validation Accuracy = 0.968\n"
     ]
    },
    {
     "name": "stderr",
     "output_type": "stream",
     "text": [
      "\r",
      " 89%|███████████████████████████████████████████████████████▏      | 89/100 [20:02<02:25, 13.24s/it]"
     ]
    },
    {
     "name": "stdout",
     "output_type": "stream",
     "text": [
      "EPOCH 90 ...\n",
      "Training Accuracy = 0.997\n",
      "Validation Accuracy = 0.965\n"
     ]
    },
    {
     "name": "stderr",
     "output_type": "stream",
     "text": [
      "\r",
      " 90%|███████████████████████████████████████████████████████▊      | 90/100 [20:15<02:12, 13.23s/it]"
     ]
    },
    {
     "name": "stdout",
     "output_type": "stream",
     "text": [
      "EPOCH 91 ...\n",
      "Training Accuracy = 0.998\n",
      "Validation Accuracy = 0.965\n"
     ]
    },
    {
     "name": "stderr",
     "output_type": "stream",
     "text": [
      "\r",
      " 91%|████████████████████████████████████████████████████████▍     | 91/100 [20:29<01:59, 13.24s/it]"
     ]
    },
    {
     "name": "stdout",
     "output_type": "stream",
     "text": [
      "EPOCH 92 ...\n",
      "Training Accuracy = 0.998\n",
      "Validation Accuracy = 0.961\n"
     ]
    },
    {
     "name": "stderr",
     "output_type": "stream",
     "text": [
      "\r",
      " 92%|█████████████████████████████████████████████████████████     | 92/100 [20:42<01:46, 13.26s/it]"
     ]
    },
    {
     "name": "stdout",
     "output_type": "stream",
     "text": [
      "EPOCH 93 ...\n",
      "Training Accuracy = 0.998\n",
      "Validation Accuracy = 0.965\n"
     ]
    },
    {
     "name": "stderr",
     "output_type": "stream",
     "text": [
      "\r",
      " 93%|█████████████████████████████████████████████████████████▋    | 93/100 [20:55<01:32, 13.24s/it]"
     ]
    },
    {
     "name": "stdout",
     "output_type": "stream",
     "text": [
      "EPOCH 94 ...\n",
      "Training Accuracy = 0.998\n",
      "Validation Accuracy = 0.969\n"
     ]
    },
    {
     "name": "stderr",
     "output_type": "stream",
     "text": [
      "\r",
      " 94%|██████████████████████████████████████████████████████████▎   | 94/100 [21:08<01:19, 13.22s/it]"
     ]
    },
    {
     "name": "stdout",
     "output_type": "stream",
     "text": [
      "EPOCH 95 ...\n",
      "Training Accuracy = 0.998\n",
      "Validation Accuracy = 0.968\n"
     ]
    },
    {
     "name": "stderr",
     "output_type": "stream",
     "text": [
      "\r",
      " 95%|██████████████████████████████████████████████████████████▉   | 95/100 [21:22<01:06, 13.24s/it]"
     ]
    },
    {
     "name": "stdout",
     "output_type": "stream",
     "text": [
      "EPOCH 96 ...\n",
      "Training Accuracy = 0.998\n",
      "Validation Accuracy = 0.971\n"
     ]
    },
    {
     "name": "stderr",
     "output_type": "stream",
     "text": [
      "\r",
      " 96%|███████████████████████████████████████████████████████████▌  | 96/100 [21:35<00:53, 13.26s/it]"
     ]
    },
    {
     "name": "stdout",
     "output_type": "stream",
     "text": [
      "EPOCH 97 ...\n",
      "Training Accuracy = 0.998\n",
      "Validation Accuracy = 0.971\n"
     ]
    },
    {
     "name": "stderr",
     "output_type": "stream",
     "text": [
      "\r",
      " 97%|████████████████████████████████████████████████████████████▏ | 97/100 [21:48<00:39, 13.24s/it]"
     ]
    },
    {
     "name": "stdout",
     "output_type": "stream",
     "text": [
      "EPOCH 98 ...\n",
      "Training Accuracy = 0.998\n",
      "Validation Accuracy = 0.968\n"
     ]
    },
    {
     "name": "stderr",
     "output_type": "stream",
     "text": [
      "\r",
      " 98%|████████████████████████████████████████████████████████████▊ | 98/100 [22:01<00:26, 13.23s/it]"
     ]
    },
    {
     "name": "stdout",
     "output_type": "stream",
     "text": [
      "EPOCH 99 ...\n",
      "Training Accuracy = 0.998\n",
      "Validation Accuracy = 0.971\n"
     ]
    },
    {
     "name": "stderr",
     "output_type": "stream",
     "text": [
      "\r",
      " 99%|█████████████████████████████████████████████████████████████▍| 99/100 [22:15<00:13, 13.22s/it]"
     ]
    },
    {
     "name": "stdout",
     "output_type": "stream",
     "text": [
      "EPOCH 100 ...\n",
      "Training Accuracy = 0.998\n",
      "Validation Accuracy = 0.967\n"
     ]
    },
    {
     "name": "stderr",
     "output_type": "stream",
     "text": [
      "100%|█████████████████████████████████████████████████████████████| 100/100 [23:36<00:00, 33.70s/it]\n"
     ]
    },
    {
     "name": "stdout",
     "output_type": "stream",
     "text": [
      "Model saved\n"
     ]
    }
   ],
   "source": [
    "# Do training\n",
    "train(train_input, y_train_extra, training_graph, logits, prediction_graph, params, valid_input, y_valid)"
   ]
  },
  {
   "cell_type": "markdown",
   "metadata": {},
   "source": [
    "### Testing the model"
   ]
  },
  {
   "cell_type": "code",
   "execution_count": 14,
   "metadata": {},
   "outputs": [
    {
     "name": "stdout",
     "output_type": "stream",
     "text": [
      "INFO:tensorflow:Restoring parameters from ./traffic_sign.ckpt\n",
      "Test Accuracy = 0.944\n"
     ]
    },
    {
     "data": {
      "text/plain": [
       "0.94433887608921541"
      ]
     },
     "execution_count": 14,
     "metadata": {},
     "output_type": "execute_result"
    }
   ],
   "source": [
    "test(test_input, y_test, logits, prediction_graph, params.batch_size)\n"
   ]
  },
  {
   "cell_type": "markdown",
   "metadata": {},
   "source": [
    "---\n",
    "\n",
    "## Step 3: Test a Model on New Images\n",
    "\n",
    "To give yourself more insight into how your model is working, download at least five pictures of German traffic signs from the web and use your model to predict the traffic sign type.\n",
    "\n",
    "You may find `signnames.csv` useful as it contains mappings from the class id (integer) to the actual sign name."
   ]
  },
  {
   "cell_type": "markdown",
   "metadata": {},
   "source": [
    "### Load and Output the Images"
   ]
  },
  {
   "cell_type": "code",
   "execution_count": 15,
   "metadata": {},
   "outputs": [
    {
     "data": {
      "image/png": "[encoded data removed]",
      "text/plain": [
       "<matplotlib.figure.Figure at 0x586688d0>"
      ]
     },
     "metadata": {},
     "output_type": "display_data"
    }
   ],
   "source": [
    "from matplotlib.image import imread\n",
    "from matplotlib.pyplot import figure, imshow, axis\n",
    "\n",
    "# The images are named as their labels\n",
    "labels = [3, 14, 17, 22, 25]\n",
    "\n",
    "WEB_IMAGE_PATH = 'examples/web/{}.jpg'\n",
    "\n",
    "# Container to store the images\n",
    "web_images = []\n",
    "     \n",
    "def load_and_output_web_images(path, labels):\n",
    "    fig = figure()\n",
    "\n",
    "    idx = 1\n",
    "    for lbl in labels:\n",
    "        fig.add_subplot(1, len(labels), idx)\n",
    "        image = imread(path.format(lbl))\n",
    "        web_images.append(image)\n",
    "        imshow(image)\n",
    "        axis('off')    \n",
    "        idx += 1\n",
    "\n",
    "# Display the images from web\n",
    "load_and_output_web_images(WEB_IMAGE_PATH, labels)\n"
   ]
  },
  {
   "cell_type": "markdown",
   "metadata": {},
   "source": [
    "### Predict the Sign Type for Each Image"
   ]
  },
  {
   "cell_type": "code",
   "execution_count": 16,
   "metadata": {},
   "outputs": [
    {
     "name": "stdout",
     "output_type": "stream",
     "text": [
      "Starting Preprocessing\n"
     ]
    },
    {
     "name": "stderr",
     "output_type": "stream",
     "text": [
      "100%|█████████████████████████████████████████████████████████████████| 5/5 [00:00<00:00, 20.57it/s]\n"
     ]
    },
    {
     "name": "stdout",
     "output_type": "stream",
     "text": [
      "INFO:tensorflow:Restoring parameters from ./traffic_sign.ckpt\n",
      "Test Accuracy = 0.800\n"
     ]
    }
   ],
   "source": [
    "### Run the predictions here and use the model to output the prediction for each image.\n",
    "### Make sure to pre-process the images with the same pre-processing pipeline used earlier.\n",
    "### Feel free to use as many code cells as needed.\n",
    "\n",
    "inp = np.array(web_images)\n",
    "\n",
    "# Do Preprocessing\n",
    "inp = preprocess(inp)\n",
    "\n",
    "# Do reshape\n",
    "inp = reshape_inputs(inp)\n",
    "\n",
    "# Run through the prediction\n",
    "accuracy = test(inp, labels, logits, prediction_graph, len(labels))"
   ]
  },
  {
   "cell_type": "markdown",
   "metadata": {},
   "source": [
    "### Analyze Performance"
   ]
  },
  {
   "cell_type": "code",
   "execution_count": 17,
   "metadata": {},
   "outputs": [
    {
     "name": "stdout",
     "output_type": "stream",
     "text": [
      "Accuracy for these images is 80%\n"
     ]
    }
   ],
   "source": [
    "### Calculate the accuracy for these 5 new images. \n",
    "### For example, if the model predicted 1 out of 5 signs correctly, it's 20% accurate on these new images.\n",
    "print('Accuracy for these images is {:.0f}%'.format(accuracy * 100))"
   ]
  },
  {
   "cell_type": "markdown",
   "metadata": {},
   "source": [
    "### Output Top 5 Softmax Probabilities For Each Image Found on the Web"
   ]
  },
  {
   "cell_type": "markdown",
   "metadata": {},
   "source": [
    "For each of the new images, print out the model's softmax probabilities to show the **certainty** of the model's predictions (limit the output to the top 5 probabilities for each image). [`tf.nn.top_k`](https://www.tensorflow.org/versions/r0.12/api_docs/python/nn.html#top_k) could prove helpful here. \n",
    "\n",
    "The example below demonstrates how tf.nn.top_k can be used to find the top k predictions for each image.\n",
    "\n",
    "`tf.nn.top_k` will return the values and indices (class ids) of the top k predictions. So if k=3, for each sign, it'll return the 3 largest probabilities (out of a possible 43) and the correspoding class ids.\n",
    "\n",
    "Take this numpy array as an example. The values in the array represent predictions. The array contains softmax probabilities for five candidate images with six possible classes. `tk.nn.top_k` is used to choose the three classes with the highest probability:\n",
    "\n",
    "```\n",
    "# (5, 6) array\n",
    "a = np.array([[ 0.24879643,  0.07032244,  0.12641572,  0.34763842,  0.07893497,\n",
    "         0.12789202],\n",
    "       [ 0.28086119,  0.27569815,  0.08594638,  0.0178669 ,  0.18063401,\n",
    "         0.15899337],\n",
    "       [ 0.26076848,  0.23664738,  0.08020603,  0.07001922,  0.1134371 ,\n",
    "         0.23892179],\n",
    "       [ 0.11943333,  0.29198961,  0.02605103,  0.26234032,  0.1351348 ,\n",
    "         0.16505091],\n",
    "       [ 0.09561176,  0.34396535,  0.0643941 ,  0.16240774,  0.24206137,\n",
    "         0.09155967]])\n",
    "```\n",
    "\n",
    "Running it through `sess.run(tf.nn.top_k(tf.constant(a), k=3))` produces:\n",
    "\n",
    "```\n",
    "TopKV2(values=array([[ 0.34763842,  0.24879643,  0.12789202],\n",
    "       [ 0.28086119,  0.27569815,  0.18063401],\n",
    "       [ 0.26076848,  0.23892179,  0.23664738],\n",
    "       [ 0.29198961,  0.26234032,  0.16505091],\n",
    "       [ 0.34396535,  0.24206137,  0.16240774]]), indices=array([[3, 0, 5],\n",
    "       [0, 1, 4],\n",
    "       [0, 5, 1],\n",
    "       [1, 3, 5],\n",
    "       [1, 4, 3]], dtype=int32))\n",
    "```\n",
    "\n",
    "Looking just at the first row we get `[ 0.34763842,  0.24879643,  0.12789202]`, you can confirm these are the 3 largest probabilities in `a`. You'll also notice `[3, 0, 5]` are the corresponding indices."
   ]
  },
  {
   "cell_type": "markdown",
   "metadata": {},
   "source": [
    "#### Readable names from CSV"
   ]
  },
  {
   "cell_type": "code",
   "execution_count": 18,
   "metadata": {
    "collapsed": true
   },
   "outputs": [],
   "source": [
    "import re\n",
    "\n",
    "# Read the csv file to get the readable names for the labels\n",
    "labels_texts = np.genfromtxt('signnames.csv', dtype=None, delimiter=',', names=True) \n",
    "\n",
    "def get_labels_text(index):\n",
    "    _, text = labels_texts[index]\n",
    "    \n",
    "    # Convert to string\n",
    "    text = str(text)\n",
    "    \n",
    "    # Do the cleanup\n",
    "    return re.search(\"'.*'\", text).group(0).replace(\"'\", '')"
   ]
  },
  {
   "cell_type": "markdown",
   "metadata": {},
   "source": [
    "#### Predictions"
   ]
  },
  {
   "cell_type": "code",
   "execution_count": 19,
   "metadata": {},
   "outputs": [
    {
     "name": "stdout",
     "output_type": "stream",
     "text": [
      "INFO:tensorflow:Restoring parameters from ./traffic_sign.ckpt\n"
     ]
    }
   ],
   "source": [
    "# Get the top 5 predicted labels for the web images\n",
    "labels, indices = get_predictions(inp, labels, logits)"
   ]
  },
  {
   "cell_type": "code",
   "execution_count": null,
   "metadata": {
    "collapsed": true
   },
   "outputs": [],
   "source": []
  },
  {
   "cell_type": "markdown",
   "metadata": {},
   "source": [
    "#### Visualization"
   ]
  },
  {
   "cell_type": "code",
   "execution_count": 20,
   "metadata": {},
   "outputs": [
    {
     "name": "stdout",
     "output_type": "stream",
     "text": [
      "[ 0.94547099  0.02518803  0.01365154  0.0082341   0.00283303]\n",
      "['Priority road', 'Ahead only', 'Go straight or right', 'Yield', 'Slippery road']\n"
     ]
    },
    {
     "data": {
      "image/png": "[encoded data removed]",
      "text/plain": [
       "<matplotlib.figure.Figure at 0xa8925f8>"
      ]
     },
     "metadata": {},
     "output_type": "display_data"
    },
    {
     "name": "stdout",
     "output_type": "stream",
     "text": [
      "[  9.99997139e-01   2.80750442e-06   1.60482614e-08   2.02534900e-09\n",
      "   6.73630984e-10]\n",
      "['Stop', 'Turn right ahead', 'Yield', 'No vehicles', 'Keep left']\n"
     ]
    },
    {
     "data": {
      "image/png": "[encoded data removed]",
      "text/plain": [
       "<matplotlib.figure.Figure at 0x7adda58>"
      ]
     },
     "metadata": {},
     "output_type": "display_data"
    },
    {
     "name": "stdout",
     "output_type": "stream",
     "text": [
      "[  9.99997377e-01   1.85295073e-06   6.32751323e-07   1.01506551e-07\n",
      "   2.77693530e-08]\n",
      "['No entry', 'No passing', 'Stop', 'Keep right', 'No vehicles']\n"
     ]
    },
    {
     "data": {
      "image/png": "[encoded data removed]",
      "text/plain": [
       "<matplotlib.figure.Figure at 0x330ab0b8>"
      ]
     },
     "metadata": {},
     "output_type": "display_data"
    },
    {
     "name": "stdout",
     "output_type": "stream",
     "text": [
      "[  9.99939322e-01   5.98852494e-05   6.81761378e-07   6.40332445e-08\n",
      "   1.60031064e-08]\n",
      "['Bumpy road', 'Bicycles crossing', 'Road work', 'Dangerous curve to the right', 'Go straight or right']\n"
     ]
    },
    {
     "data": {
      "image/png": "[encoded data removed]",
      "text/plain": [
       "<matplotlib.figure.Figure at 0x450edac8>"
      ]
     },
     "metadata": {},
     "output_type": "display_data"
    },
    {
     "name": "stdout",
     "output_type": "stream",
     "text": [
      "[  9.85878587e-01   7.47915776e-03   4.67537437e-03   1.75834750e-03\n",
      "   6.59498837e-05]\n",
      "['Road work', 'Wild animals crossing', 'Beware of ice/snow', 'Bicycles crossing', 'Speed limit (60km/h)']\n"
     ]
    },
    {
     "data": {
      "image/png": "[encoded data removed]",
      "text/plain": [
       "<matplotlib.figure.Figure at 0x33479b00>"
      ]
     },
     "metadata": {},
     "output_type": "display_data"
    }
   ],
   "source": [
    "def visualize_prediction(x_axis, y_axis, image):\n",
    "    y_pos = np.arange(len(y_axis))\n",
    "    \n",
    "    # Plot the predictions\n",
    "    plt.subplot(1, 2, 1)\n",
    "    plt.barh(y_pos, x_axis, align='edge', alpha=0.5, color='r')\n",
    "    plt.yticks(y_pos, y_axis)\n",
    "    plt.xlabel('Predictions')    \n",
    "    plt.xticks(x_axis)\n",
    "    \n",
    "    # Plot the image\n",
    "    plt.subplot(1, 2, 2)\n",
    "    plt.imshow(image)    \n",
    "    plt.show()\n",
    "\n",
    "    \n",
    "# Loop through all the predictions and display the visualization\n",
    "for idx in range(len(labels)):\n",
    "    x_axis = labels[idx]\n",
    "    index = indices[idx]\n",
    "    \n",
    "    # Translate the index value to a readable text using csv reference\n",
    "    y_axis = []    \n",
    "    for idx_val in index:\n",
    "        text = get_labels_text(idx_val)\n",
    "        y_axis.append(text)\n",
    "        \n",
    "    print(x_axis)\n",
    "    print(y_axis)\n",
    "                \n",
    "    visualize_prediction(x_axis, y_axis, web_images[idx])\n",
    "    \n",
    "        \n",
    "        "
   ]
  },
  {
   "cell_type": "markdown",
   "metadata": {},
   "source": [
    "### Project Writeup\n",
    "\n",
    "Once you have completed the code implementation, document your results in a project writeup using this [template](https://github.com/udacity/CarND-Traffic-Sign-Classifier-Project/blob/master/writeup_template.md) as a guide. The writeup can be in a markdown or pdf file. "
   ]
  },
  {
   "cell_type": "markdown",
   "metadata": {},
   "source": [
    "> **Note**: Once you have completed all of the code implementations and successfully answered each question above, you may finalize your work by exporting the iPython Notebook as an HTML document. You can do this by using the menu above and navigating to  \\n\",\n",
    "    \"**File -> Download as -> HTML (.html)**. Include the finished document along with this notebook as your submission."
   ]
  },
  {
   "cell_type": "markdown",
   "metadata": {},
   "source": [
    "---\n",
    "\n",
    "## Step 4 (Optional): Visualize the Neural Network's State with Test Images\n",
    "\n",
    " This Section is not required to complete but acts as an additional excersise for understaning the output of a neural network's weights. While neural networks can be a great learning device they are often referred to as a black box. We can understand what the weights of a neural network look like better by plotting their feature maps. After successfully training your neural network you can see what it's feature maps look like by plotting the output of the network's weight layers in response to a test stimuli image. From these plotted feature maps, it's possible to see what characteristics of an image the network finds interesting. For a sign, maybe the inner network feature maps react with high activation to the sign's boundary outline or to the contrast in the sign's painted symbol.\n",
    "\n",
    " Provided for you below is the function code that allows you to get the visualization output of any tensorflow weight layer you want. The inputs to the function should be a stimuli image, one used during training or a new one you provided, and then the tensorflow variable name that represents the layer's state during the training process, for instance if you wanted to see what the [LeNet lab's](https://classroom.udacity.com/nanodegrees/nd013/parts/fbf77062-5703-404e-b60c-95b78b2f3f9e/modules/6df7ae49-c61c-4bb2-a23e-6527e69209ec/lessons/601ae704-1035-4287-8b11-e2c2716217ad/concepts/d4aca031-508f-4e0b-b493-e7b706120f81) feature maps looked like for it's second convolutional layer you could enter conv2 as the tf_activation variable.\n",
    "\n",
    "For an example of what feature map outputs look like, check out NVIDIA's results in their paper [End-to-End Deep Learning for Self-Driving Cars](https://devblogs.nvidia.com/parallelforall/deep-learning-self-driving-cars/) in the section Visualization of internal CNN State. NVIDIA was able to show that their network's inner weights had high activations to road boundary lines by comparing feature maps from an image with a clear path to one without. Try experimenting with a similar test to show that your trained network's weights are looking for interesting features, whether it's looking at differences in feature maps from images with or without a sign, or even what feature maps look like in a trained network vs a completely untrained one on the same sign image.\n",
    "\n",
    "<figure>\n",
    " <img src=\"visualize_cnn.png\" width=\"380\" alt=\"Combined Image\" />\n",
    " <figcaption>\n",
    " <p></p> \n",
    " <p style=\"text-align: center;\"> Your output should look something like this (above)</p> \n",
    " </figcaption>\n",
    "</figure>\n",
    " <p></p> \n"
   ]
  },
  {
   "cell_type": "code",
   "execution_count": 21,
   "metadata": {
    "collapsed": true
   },
   "outputs": [],
   "source": [
    "### Visualize your network's feature maps here.\n",
    "### Feel free to use as many code cells as needed.\n",
    "\n",
    "# image_input: the test image being fed into the network to produce the feature maps\n",
    "# tf_activation: should be a tf variable name used during your training procedure that represents the calculated state of a specific weight layer\n",
    "# activation_min/max: can be used to view the activation contrast in more detail, by default matplot sets min and max to the actual min and max values of the output\n",
    "# plt_num: used to plot out multiple different weight feature map sets on the same block, just extend the plt number for each new feature map entry\n",
    "\n",
    "def outputFeatureMap(image_input, tf_activation, activation_min=-1, activation_max=-1 ,plt_num=1):\n",
    "    # Here make sure to preprocess your image_input in a way your network expects\n",
    "    # with size, normalization, ect if needed\n",
    "    # image_input =\n",
    "    # Note: x should be the same name as your network's tensorflow data placeholder variable\n",
    "    # If you get an error tf_activation is not defined it may be having trouble accessing the variable from inside a function\n",
    "    \n",
    "    with tf.Session() as sess:\n",
    "        saver = tf.train.Saver()\n",
    "\n",
    "        saver.restore(sess, './traffic_sign.ckpt')\n",
    "        activation = tf_activation.eval(session=sess,feed_dict={x : image_input})\n",
    "        featuremaps = activation.shape[3]\n",
    "        plt.figure(plt_num, figsize=(15,15))\n",
    "        for featuremap in range(featuremaps):\n",
    "            plt.subplot(6,8, featuremap+1) # sets the number of feature maps to show on each row and column\n",
    "            plt.title('FeatureMap ' + str(featuremap)) # displays the feature map number\n",
    "            if activation_min != -1 & activation_max != -1:\n",
    "                plt.imshow(activation[0,:,:, featuremap], interpolation=\"nearest\", vmin =activation_min, vmax=activation_max, cmap=\"gray\")\n",
    "            elif activation_max != -1:\n",
    "                plt.imshow(activation[0,:,:, featuremap], interpolation=\"nearest\", vmax=activation_max, cmap=\"gray\")\n",
    "            elif activation_min !=-1:\n",
    "                plt.imshow(activation[0,:,:, featuremap], interpolation=\"nearest\", vmin=activation_min, cmap=\"gray\")\n",
    "            else:\n",
    "                plt.imshow(activation[0,:,:, featuremap], interpolation=\"nearest\", cmap=\"gray\")"
   ]
  },
  {
   "cell_type": "markdown",
   "metadata": {},
   "source": [
    "#### Visualize the First convolution layer when network is detecting a no entry sign"
   ]
  },
  {
   "cell_type": "code",
   "execution_count": 22,
   "metadata": {},
   "outputs": [
    {
     "name": "stdout",
     "output_type": "stream",
     "text": [
      "INFO:tensorflow:Restoring parameters from ./traffic_sign.ckpt\n"
     ]
    },
    {
     "data": {
      "image/png": "[encoded data removed]",
      "text/plain": [
       "<matplotlib.figure.Figure at 0x334a24a8>"
      ]
     },
     "metadata": {},
     "output_type": "display_data"
    }
   ],
   "source": [
    "outputFeatureMap([inp[2]], convo_1, plt_num=1)"
   ]
  },
  {
   "cell_type": "markdown",
   "metadata": {},
   "source": [
    "#### Visualize the Second convolution layer when network is detecting a no entry sign"
   ]
  },
  {
   "cell_type": "code",
   "execution_count": 23,
   "metadata": {},
   "outputs": [
    {
     "name": "stdout",
     "output_type": "stream",
     "text": [
      "INFO:tensorflow:Restoring parameters from ./traffic_sign.ckpt\n"
     ]
    },
    {
     "data": {
      "image/png": "[encoded data removed]",
      "text/plain": [
       "<matplotlib.figure.Figure at 0x1b1047f0>"
      ]
     },
     "metadata": {},
     "output_type": "display_data"
    }
   ],
   "source": [
    "outputFeatureMap([inp[2]], convo_1, plt_num=1)"
   ]
  },
  {
   "cell_type": "code",
   "execution_count": null,
   "metadata": {
    "collapsed": true
   },
   "outputs": [],
   "source": []
  }
 ],
 "metadata": {
  "anaconda-cloud": {},
  "kernelspec": {
   "display_name": "Python 3",
   "language": "python",
   "name": "python3"
  },
  "language_info": {
   "codemirror_mode": {
    "name": "ipython",
    "version": 3
   },
   "file_extension": ".py",
   "mimetype": "text/x-python",
   "name": "python",
   "nbconvert_exporter": "python",
   "pygments_lexer": "ipython3",
   "version": "3.5.2"
  },
  "widgets": {
   "state": {},
   "version": "1.1.2"
  }
 },
 "nbformat": 4,
 "nbformat_minor": 1
}
